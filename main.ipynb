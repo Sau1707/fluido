{
 "cells": [
  {
   "cell_type": "code",
   "execution_count": 3,
   "metadata": {},
   "outputs": [],
   "source": [
    "import matplotlib.pyplot as plt\n",
    "\n",
    "from src.simbols import x, y, z\n",
    "from src.simbols import u, v, w\n",
    "from src.simbols import a, b, c\n",
    "from src.simbols import A, U\n",
    "from src.texprint import texprint, texdisplay\n",
    "from src.operations import div"
   ]
  },
  {
   "cell_type": "code",
   "execution_count": 4,
   "metadata": {},
   "outputs": [
    {
     "data": {
      "text/latex": [
       "$\\displaystyle \\left[\\begin{matrix}u{\\left(x,y,z \\right)} \\frac{\\partial}{\\partial x} a{\\left(x,y,z \\right)} + v{\\left(x,y,z \\right)} \\frac{\\partial}{\\partial x} b{\\left(x,y,z \\right)} + w{\\left(x,y,z \\right)} \\frac{\\partial}{\\partial x} c{\\left(x,y,z \\right)}\\\\u{\\left(x,y,z \\right)} \\frac{\\partial}{\\partial y} a{\\left(x,y,z \\right)} + v{\\left(x,y,z \\right)} \\frac{\\partial}{\\partial y} b{\\left(x,y,z \\right)} + w{\\left(x,y,z \\right)} \\frac{\\partial}{\\partial y} c{\\left(x,y,z \\right)}\\\\u{\\left(x,y,z \\right)} \\frac{\\partial}{\\partial z} a{\\left(x,y,z \\right)} + v{\\left(x,y,z \\right)} \\frac{\\partial}{\\partial z} b{\\left(x,y,z \\right)} + w{\\left(x,y,z \\right)} \\frac{\\partial}{\\partial z} c{\\left(x,y,z \\right)}\\end{matrix}\\right]$"
      ],
      "text/plain": [
       "<IPython.core.display.Math object>"
      ]
     },
     "metadata": {},
     "output_type": "display_data"
    }
   ],
   "source": [
    "u_dot_grad_alpha = A.jacobian([x, y, z]).T @ U\n",
    "texdisplay(u_dot_grad_alpha)"
   ]
  },
  {
   "cell_type": "code",
   "execution_count": 5,
   "metadata": {},
   "outputs": [
    {
     "data": {
      "text/latex": [
       "$\\displaystyle \\left[\\begin{matrix}u{\\left(x,y,z \\right)} \\frac{\\partial}{\\partial x} a{\\left(x,y,z \\right)} + v{\\left(x,y,z \\right)} \\frac{\\partial}{\\partial x} b{\\left(x,y,z \\right)} + w{\\left(x,y,z \\right)} \\frac{\\partial}{\\partial x} c{\\left(x,y,z \\right)}\\\\u{\\left(x,y,z \\right)} \\frac{\\partial}{\\partial y} a{\\left(x,y,z \\right)} + v{\\left(x,y,z \\right)} \\frac{\\partial}{\\partial y} b{\\left(x,y,z \\right)} + w{\\left(x,y,z \\right)} \\frac{\\partial}{\\partial y} c{\\left(x,y,z \\right)}\\\\u{\\left(x,y,z \\right)} \\frac{\\partial}{\\partial z} a{\\left(x,y,z \\right)} + v{\\left(x,y,z \\right)} \\frac{\\partial}{\\partial z} b{\\left(x,y,z \\right)} + w{\\left(x,y,z \\right)} \\frac{\\partial}{\\partial z} c{\\left(x,y,z \\right)}\\end{matrix}\\right]$"
      ],
      "text/plain": [
       "<IPython.core.display.Math object>"
      ]
     },
     "metadata": {},
     "output_type": "display_data"
    }
   ],
   "source": [
    "u_dot_grad_alpha = div(A).T @ U\n",
    "texdisplay(u_dot_grad_alpha)"
   ]
  }
 ],
 "metadata": {
  "kernelspec": {
   "display_name": "Python 3",
   "language": "python",
   "name": "python3"
  },
  "language_info": {
   "codemirror_mode": {
    "name": "ipython",
    "version": 3
   },
   "file_extension": ".py",
   "mimetype": "text/x-python",
   "name": "python",
   "nbconvert_exporter": "python",
   "pygments_lexer": "ipython3",
   "version": "3.12.8"
  }
 },
 "nbformat": 4,
 "nbformat_minor": 2
}
